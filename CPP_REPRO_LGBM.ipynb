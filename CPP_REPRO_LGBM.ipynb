{
 "cells": [
  {
   "cell_type": "code",
   "execution_count": 1,
   "metadata": {},
   "outputs": [
    {
     "name": "stderr",
     "output_type": "stream",
     "text": [
      "C:\\Users\\Daniel\\anaconda3\\envs\\datsci\\lib\\site-packages\\tqdm\\std.py:658: FutureWarning: The Panel class is removed from pandas. Accessing it from the top-level namespace will also be removed in the next version\n",
      "  from pandas import Panel\n"
     ]
    }
   ],
   "source": [
    "import pandas as pd\n",
    "import os\n",
    "import numpy as np\n",
    "import itertools\n",
    "import lightgbm as lgb\n",
    "from tqdm.notebook import tqdm\n",
    "\n",
    "tqdm.pandas()\n",
    "pd.set_option('display.max_columns', None)"
   ]
  },
  {
   "cell_type": "markdown",
   "metadata": {},
   "source": [
    "# Read and Preprocess"
   ]
  },
  {
   "cell_type": "code",
   "execution_count": 2,
   "metadata": {},
   "outputs": [],
   "source": [
    "dsdir = 'C:\\\\Users\\\\Daniel\\\\Downloads\\\\3_Plus_1\\\\RecommendationEngine\\\\coupon-purchase-prediction\\\\dataset'"
   ]
  },
  {
   "cell_type": "code",
   "execution_count": 3,
   "metadata": {},
   "outputs": [],
   "source": [
    "train = pd.read_csv('CPP_REPRO_coupon_list_train.csv').sample(frac=1, random_state=0).reset_index(drop=True)\n",
    "test =  pd.read_csv('CPP_REPRO_coupon_list_test.csv')\n",
    "submission = pd.read_csv(os.path.join(dsdir,'sample_submission.csv'))"
   ]
  },
  {
   "cell_type": "code",
   "execution_count": 4,
   "metadata": {},
   "outputs": [],
   "source": [
    "train.drop(['DISPFROM', 'DISPEND', 'VALIDFROM', 'VALIDEND', 'REG_DATE', 'WITHDRAW_DATE'], axis=1, inplace=True)\n",
    "test.drop(['DISPFROM', 'DISPEND', 'VALIDFROM', 'VALIDEND', 'REG_DATE', 'WITHDRAW_DATE'], axis=1, inplace=True)"
   ]
  },
  {
   "cell_type": "code",
   "execution_count": 5,
   "metadata": {},
   "outputs": [],
   "source": [
    "train.drop(['USABLE_DATE_HOLIDAY', 'USABLE_DATE_BEFORE_HOLIDAY'], axis=1, inplace=True)\n",
    "test.drop(['USABLE_DATE_HOLIDAY', 'USABLE_DATE_BEFORE_HOLIDAY'], axis=1, inplace=True)"
   ]
  },
  {
   "cell_type": "code",
   "execution_count": 6,
   "metadata": {},
   "outputs": [],
   "source": [
    "train['SAME_PREF'] = train['PREF_NAME_COUPON'] == train['PREF_NAME_USER']\n",
    "test['SAME_PREF'] =  test['PREF_NAME_COUPON'] == test['PREF_NAME_USER']"
   ]
  },
  {
   "cell_type": "code",
   "execution_count": 7,
   "metadata": {},
   "outputs": [],
   "source": [
    "def haversine(lat1, lat2, lon1, lon2):\n",
    "    R = 6372.8 # kilometres (3959.87433 miles)\n",
    "    \n",
    "    dlat_rad = np.radians(lat2 - lat1)\n",
    "    dlon_rad = np.radians(lon2 - lon1)\n",
    "    lat1_rad = np.radians(lat1)\n",
    "    lat2_rad = np.radians(lat2)\n",
    "\n",
    "    a = np.sin(dlat_rad / 2) ** 2 + np.cos(lat1_rad) * np.cos(lat2_rad) * np.sin(dlon_rad / 2) ** 2\n",
    "    hdist = 2 * R * np.arcsin(np.sqrt(a))\n",
    "\n",
    "    return hdist"
   ]
  },
  {
   "cell_type": "code",
   "execution_count": 8,
   "metadata": {},
   "outputs": [],
   "source": [
    "# Use vector operations for speed\n",
    "train['HAVERSINE_DIST'] = haversine(train['LATITUDE_COUPON'], train['LATITUDE_USER'], train['LONGITUDE_COUPON'], train['LONGITUDE_USER'])\n",
    "train['LATITUDE_DELTA'] = np.abs(train['LATITUDE_COUPON'] - train['LATITUDE_USER'])\n",
    "train['LONGITUDE_DELTA'] = np.abs(train['LONGITUDE_COUPON'] - train['LONGITUDE_USER'])\n",
    "\n",
    "test['HAVERSINE_DIST'] = haversine(test['LATITUDE_COUPON'], test['LATITUDE_USER'], test['LONGITUDE_COUPON'], test['LONGITUDE_USER'])\n",
    "test['LATITUDE_DELTA'] = np.abs(test['LATITUDE_COUPON'] - test['LATITUDE_USER'])\n",
    "test['LONGITUDE_DELTA'] = np.abs(test['LONGITUDE_COUPON'] - test['LONGITUDE_USER'])"
   ]
  },
  {
   "cell_type": "code",
   "execution_count": 9,
   "metadata": {},
   "outputs": [
    {
     "data": {
      "text/plain": [
       "['CAPSULE_TEXT',\n",
       " 'GENRE_NAME',\n",
       " 'LARGE_AREA_NAME',\n",
       " 'PREF_NAME_COUPON',\n",
       " 'SMALL_AREA_NAME',\n",
       " 'SEX_ID',\n",
       " 'PREF_NAME_USER']"
      ]
     },
     "execution_count": 9,
     "metadata": {},
     "output_type": "execute_result"
    }
   ],
   "source": [
    "x_train = train.drop(['USER_ID_hash', 'COUPON_ID_hash', 'TARGET'], axis=1)\n",
    "y_train = train.TARGET.values.reshape(-1)\n",
    "x_test = test.drop(['USER_ID_hash', 'COUPON_ID_hash'], axis=1)\n",
    "\n",
    "categoricals = x_train.dtypes[x_train.dtypes == 'object'].index.tolist()\n",
    "categoricals"
   ]
  },
  {
   "cell_type": "code",
   "execution_count": 10,
   "metadata": {},
   "outputs": [],
   "source": [
    "x_train[categoricals] = x_train[categoricals].astype('category')\n",
    "x_test[categoricals] = x_test[categoricals].astype('category')"
   ]
  },
  {
   "cell_type": "code",
   "execution_count": 11,
   "metadata": {},
   "outputs": [
    {
     "data": {
      "text/html": [
       "<div>\n",
       "<style scoped>\n",
       "    .dataframe tbody tr th:only-of-type {\n",
       "        vertical-align: middle;\n",
       "    }\n",
       "\n",
       "    .dataframe tbody tr th {\n",
       "        vertical-align: top;\n",
       "    }\n",
       "\n",
       "    .dataframe thead th {\n",
       "        text-align: right;\n",
       "    }\n",
       "</style>\n",
       "<table border=\"1\" class=\"dataframe\">\n",
       "  <thead>\n",
       "    <tr style=\"text-align: right;\">\n",
       "      <th></th>\n",
       "      <th>CAPSULE_TEXT</th>\n",
       "      <th>GENRE_NAME</th>\n",
       "      <th>PRICE_RATE</th>\n",
       "      <th>CATALOG_PRICE</th>\n",
       "      <th>DISCOUNT_PRICE</th>\n",
       "      <th>DISPPERIOD</th>\n",
       "      <th>VALIDPERIOD</th>\n",
       "      <th>USABLE_DATE_MON</th>\n",
       "      <th>USABLE_DATE_TUE</th>\n",
       "      <th>USABLE_DATE_WED</th>\n",
       "      <th>USABLE_DATE_THU</th>\n",
       "      <th>USABLE_DATE_FRI</th>\n",
       "      <th>USABLE_DATE_SAT</th>\n",
       "      <th>USABLE_DATE_SUN</th>\n",
       "      <th>LARGE_AREA_NAME</th>\n",
       "      <th>PREF_NAME_COUPON</th>\n",
       "      <th>SMALL_AREA_NAME</th>\n",
       "      <th>LATITUDE_COUPON</th>\n",
       "      <th>LONGITUDE_COUPON</th>\n",
       "      <th>SEX_ID</th>\n",
       "      <th>AGE</th>\n",
       "      <th>PREF_NAME_USER</th>\n",
       "      <th>LATITUDE_USER</th>\n",
       "      <th>LONGITUDE_USER</th>\n",
       "      <th>SAME_PREF</th>\n",
       "      <th>HAVERSINE_DIST</th>\n",
       "      <th>LATITUDE_DELTA</th>\n",
       "      <th>LONGITUDE_DELTA</th>\n",
       "    </tr>\n",
       "  </thead>\n",
       "  <tbody>\n",
       "    <tr>\n",
       "      <th>0</th>\n",
       "      <td>Food</td>\n",
       "      <td>Food</td>\n",
       "      <td>50</td>\n",
       "      <td>5260</td>\n",
       "      <td>2630</td>\n",
       "      <td>3</td>\n",
       "      <td>179</td>\n",
       "      <td>1.0</td>\n",
       "      <td>1.0</td>\n",
       "      <td>1.0</td>\n",
       "      <td>1.0</td>\n",
       "      <td>1.0</td>\n",
       "      <td>1.0</td>\n",
       "      <td>1.0</td>\n",
       "      <td>Kansai</td>\n",
       "      <td>Hyogo</td>\n",
       "      <td>Hyogo</td>\n",
       "      <td>34.691279</td>\n",
       "      <td>135.183025</td>\n",
       "      <td>f</td>\n",
       "      <td>57</td>\n",
       "      <td>Kochi</td>\n",
       "      <td>33.559705</td>\n",
       "      <td>133.531080</td>\n",
       "      <td>False</td>\n",
       "      <td>197.417359</td>\n",
       "      <td>1.131574</td>\n",
       "      <td>1.651945</td>\n",
       "    </tr>\n",
       "    <tr>\n",
       "      <th>1</th>\n",
       "      <td>Food</td>\n",
       "      <td>Food</td>\n",
       "      <td>50</td>\n",
       "      <td>4500</td>\n",
       "      <td>2250</td>\n",
       "      <td>3</td>\n",
       "      <td>151</td>\n",
       "      <td>1.0</td>\n",
       "      <td>1.0</td>\n",
       "      <td>1.0</td>\n",
       "      <td>1.0</td>\n",
       "      <td>1.0</td>\n",
       "      <td>1.0</td>\n",
       "      <td>1.0</td>\n",
       "      <td>Kansai</td>\n",
       "      <td>Kyoto</td>\n",
       "      <td>Kyoto</td>\n",
       "      <td>35.021004</td>\n",
       "      <td>135.755608</td>\n",
       "      <td>f</td>\n",
       "      <td>26</td>\n",
       "      <td>Saitama</td>\n",
       "      <td>35.857428</td>\n",
       "      <td>139.648933</td>\n",
       "      <td>False</td>\n",
       "      <td>364.841385</td>\n",
       "      <td>0.836424</td>\n",
       "      <td>3.893325</td>\n",
       "    </tr>\n",
       "    <tr>\n",
       "      <th>2</th>\n",
       "      <td>Relaxation</td>\n",
       "      <td>Relaxation</td>\n",
       "      <td>58</td>\n",
       "      <td>5800</td>\n",
       "      <td>2400</td>\n",
       "      <td>4</td>\n",
       "      <td>178</td>\n",
       "      <td>1.0</td>\n",
       "      <td>1.0</td>\n",
       "      <td>1.0</td>\n",
       "      <td>1.0</td>\n",
       "      <td>1.0</td>\n",
       "      <td>1.0</td>\n",
       "      <td>1.0</td>\n",
       "      <td>Kanto</td>\n",
       "      <td>Kanagawa</td>\n",
       "      <td>Yokohama</td>\n",
       "      <td>35.447753</td>\n",
       "      <td>139.642514</td>\n",
       "      <td>f</td>\n",
       "      <td>39</td>\n",
       "      <td>Tokyo</td>\n",
       "      <td>35.689521</td>\n",
       "      <td>139.691704</td>\n",
       "      <td>False</td>\n",
       "      <td>27.256747</td>\n",
       "      <td>0.241768</td>\n",
       "      <td>0.049190</td>\n",
       "    </tr>\n",
       "    <tr>\n",
       "      <th>3</th>\n",
       "      <td>Food</td>\n",
       "      <td>Food</td>\n",
       "      <td>50</td>\n",
       "      <td>2000</td>\n",
       "      <td>1000</td>\n",
       "      <td>4</td>\n",
       "      <td>119</td>\n",
       "      <td>1.0</td>\n",
       "      <td>1.0</td>\n",
       "      <td>1.0</td>\n",
       "      <td>1.0</td>\n",
       "      <td>1.0</td>\n",
       "      <td>1.0</td>\n",
       "      <td>1.0</td>\n",
       "      <td>Kanto</td>\n",
       "      <td>Kanagawa</td>\n",
       "      <td>Yokohama</td>\n",
       "      <td>35.447753</td>\n",
       "      <td>139.642514</td>\n",
       "      <td>f</td>\n",
       "      <td>64</td>\n",
       "      <td>Nagasaki</td>\n",
       "      <td>32.744839</td>\n",
       "      <td>129.873756</td>\n",
       "      <td>False</td>\n",
       "      <td>948.145794</td>\n",
       "      <td>2.702914</td>\n",
       "      <td>9.768758</td>\n",
       "    </tr>\n",
       "    <tr>\n",
       "      <th>4</th>\n",
       "      <td>Japanese hotel</td>\n",
       "      <td>Hotel and Japanese hotel</td>\n",
       "      <td>52</td>\n",
       "      <td>13650</td>\n",
       "      <td>6480</td>\n",
       "      <td>3</td>\n",
       "      <td>149</td>\n",
       "      <td>1.0</td>\n",
       "      <td>1.0</td>\n",
       "      <td>1.0</td>\n",
       "      <td>1.0</td>\n",
       "      <td>1.0</td>\n",
       "      <td>2.0</td>\n",
       "      <td>1.0</td>\n",
       "      <td>Kyushu-Okinawa</td>\n",
       "      <td>Nagasaki</td>\n",
       "      <td>Nagasaki</td>\n",
       "      <td>32.744839</td>\n",
       "      <td>129.873756</td>\n",
       "      <td>m</td>\n",
       "      <td>34</td>\n",
       "      <td>Tokyo</td>\n",
       "      <td>35.689521</td>\n",
       "      <td>139.691704</td>\n",
       "      <td>False</td>\n",
       "      <td>960.011172</td>\n",
       "      <td>2.944682</td>\n",
       "      <td>9.817948</td>\n",
       "    </tr>\n",
       "  </tbody>\n",
       "</table>\n",
       "</div>"
      ],
      "text/plain": [
       "     CAPSULE_TEXT                GENRE_NAME  PRICE_RATE  CATALOG_PRICE  \\\n",
       "0            Food                      Food          50           5260   \n",
       "1            Food                      Food          50           4500   \n",
       "2      Relaxation                Relaxation          58           5800   \n",
       "3            Food                      Food          50           2000   \n",
       "4  Japanese hotel  Hotel and Japanese hotel          52          13650   \n",
       "\n",
       "   DISCOUNT_PRICE  DISPPERIOD  VALIDPERIOD  USABLE_DATE_MON  USABLE_DATE_TUE  \\\n",
       "0            2630           3          179              1.0              1.0   \n",
       "1            2250           3          151              1.0              1.0   \n",
       "2            2400           4          178              1.0              1.0   \n",
       "3            1000           4          119              1.0              1.0   \n",
       "4            6480           3          149              1.0              1.0   \n",
       "\n",
       "   USABLE_DATE_WED  USABLE_DATE_THU  USABLE_DATE_FRI  USABLE_DATE_SAT  \\\n",
       "0              1.0              1.0              1.0              1.0   \n",
       "1              1.0              1.0              1.0              1.0   \n",
       "2              1.0              1.0              1.0              1.0   \n",
       "3              1.0              1.0              1.0              1.0   \n",
       "4              1.0              1.0              1.0              2.0   \n",
       "\n",
       "   USABLE_DATE_SUN LARGE_AREA_NAME PREF_NAME_COUPON SMALL_AREA_NAME  \\\n",
       "0              1.0          Kansai            Hyogo           Hyogo   \n",
       "1              1.0          Kansai            Kyoto           Kyoto   \n",
       "2              1.0           Kanto         Kanagawa        Yokohama   \n",
       "3              1.0           Kanto         Kanagawa        Yokohama   \n",
       "4              1.0  Kyushu-Okinawa         Nagasaki        Nagasaki   \n",
       "\n",
       "   LATITUDE_COUPON  LONGITUDE_COUPON SEX_ID  AGE PREF_NAME_USER  \\\n",
       "0        34.691279        135.183025      f   57          Kochi   \n",
       "1        35.021004        135.755608      f   26        Saitama   \n",
       "2        35.447753        139.642514      f   39          Tokyo   \n",
       "3        35.447753        139.642514      f   64       Nagasaki   \n",
       "4        32.744839        129.873756      m   34          Tokyo   \n",
       "\n",
       "   LATITUDE_USER  LONGITUDE_USER  SAME_PREF  HAVERSINE_DIST  LATITUDE_DELTA  \\\n",
       "0      33.559705      133.531080      False      197.417359        1.131574   \n",
       "1      35.857428      139.648933      False      364.841385        0.836424   \n",
       "2      35.689521      139.691704      False       27.256747        0.241768   \n",
       "3      32.744839      129.873756      False      948.145794        2.702914   \n",
       "4      35.689521      139.691704      False      960.011172        2.944682   \n",
       "\n",
       "   LONGITUDE_DELTA  \n",
       "0         1.651945  \n",
       "1         3.893325  \n",
       "2         0.049190  \n",
       "3         9.768758  \n",
       "4         9.817948  "
      ]
     },
     "execution_count": 11,
     "metadata": {},
     "output_type": "execute_result"
    }
   ],
   "source": [
    "x_train, x_test = x_train.align(x_test, join='left', axis=1)\n",
    "x_train.head()"
   ]
  },
  {
   "cell_type": "code",
   "execution_count": 12,
   "metadata": {},
   "outputs": [],
   "source": [
    "train_data = lgb.Dataset(x_train, label=y_train)"
   ]
  },
  {
   "cell_type": "markdown",
   "metadata": {},
   "source": [
    "# Training"
   ]
  },
  {
   "cell_type": "code",
   "execution_count": 13,
   "metadata": {},
   "outputs": [],
   "source": [
    "model_params = {\n",
    "    'boosting_type': 'gbdt',\n",
    "    'class_weight': None,\n",
    "    'colsample_bytree': 1.0,\n",
    "    'importance_type': 'split',\n",
    "    'learning_rate': 0.1,\n",
    "    'max_depth': -1,\n",
    "    'min_child_samples': 20,\n",
    "    'min_child_weight': 0.001,\n",
    "    'min_split_gain': 0.0,\n",
    "    'num_iterations': 100,\n",
    "    'n_jobs': -1,\n",
    "    'num_leaves': 31,\n",
    "    'objective': 'binary',\n",
    "    'random_state': 0,\n",
    "    'reg_alpha': 0.0,\n",
    "    'reg_lambda': 0.0,\n",
    "    'subsample': 1.0,\n",
    "    'subsample_for_bin': 200000,\n",
    "    'subsample_freq': 0,\n",
    "    'metric': 'binary_logloss'\n",
    "}"
   ]
  },
  {
   "cell_type": "code",
   "execution_count": 14,
   "metadata": {},
   "outputs": [
    {
     "name": "stderr",
     "output_type": "stream",
     "text": [
      "C:\\Users\\Daniel\\anaconda3\\envs\\datsci\\lib\\site-packages\\lightgbm\\engine.py:148: UserWarning: Found `num_iterations` in params. Will use it instead of argument\n",
      "  warnings.warn(\"Found `{}` in params. Will use it instead of argument\".format(alias))\n"
     ]
    }
   ],
   "source": [
    "gbm_model = lgb.train(model_params, train_data)"
   ]
  },
  {
   "cell_type": "code",
   "execution_count": 15,
   "metadata": {},
   "outputs": [],
   "source": [
    "gbm_model.save_model('CPP_REPRO_LGBM.mdl')\n",
    "gbm_model = lgb.Booster(model_file='CPP_REPRO_LGBM.mdl')"
   ]
  },
  {
   "cell_type": "code",
   "execution_count": 16,
   "metadata": {},
   "outputs": [],
   "source": [
    "A = x_test.iloc[:len(x_test) // 3]\n",
    "B = x_test.iloc[len(x_test) // 3:len(x_test) // 3 * 2]\n",
    "C = x_test.iloc[len(x_test) // 3 * 2:]"
   ]
  },
  {
   "cell_type": "code",
   "execution_count": 17,
   "metadata": {},
   "outputs": [],
   "source": [
    "y_predA = gbm_model.predict(A, raw_score=True)\n",
    "y_predB = gbm_model.predict(B, raw_score=True)\n",
    "y_predC = gbm_model.predict(C, raw_score=True)"
   ]
  },
  {
   "cell_type": "code",
   "execution_count": 18,
   "metadata": {},
   "outputs": [],
   "source": [
    "y_pred = y_predA.tolist() + y_predB.tolist() + y_predC.tolist()"
   ]
  },
  {
   "cell_type": "code",
   "execution_count": 19,
   "metadata": {},
   "outputs": [],
   "source": [
    "sub = test[['USER_ID_hash','COUPON_ID_hash']].copy()\n",
    "sub['TARGET'] = y_pred"
   ]
  },
  {
   "cell_type": "code",
   "execution_count": 20,
   "metadata": {},
   "outputs": [],
   "source": [
    "grouped = sub.groupby('USER_ID_hash')"
   ]
  },
  {
   "cell_type": "code",
   "execution_count": 21,
   "metadata": {},
   "outputs": [],
   "source": [
    "def get_top10(row):\n",
    "    pred = grouped.get_group(row.USER_ID_hash).sort_values(by=['TARGET'],ascending=False)\n",
    "    pred = ' '.join(map(str, pred.head(10).COUPON_ID_hash.values))\n",
    "    return pred"
   ]
  },
  {
   "cell_type": "code",
   "execution_count": 22,
   "metadata": {
    "scrolled": true
   },
   "outputs": [
    {
     "data": {
      "application/vnd.jupyter.widget-view+json": {
       "model_id": "d1094c3de26d42d1909b3a271d54a1eb",
       "version_major": 2,
       "version_minor": 0
      },
      "text/plain": [
       "HBox(children=(FloatProgress(value=0.0, max=22873.0), HTML(value='')))"
      ]
     },
     "metadata": {},
     "output_type": "display_data"
    },
    {
     "name": "stdout",
     "output_type": "stream",
     "text": [
      "\n"
     ]
    },
    {
     "data": {
      "text/html": [
       "<div>\n",
       "<style scoped>\n",
       "    .dataframe tbody tr th:only-of-type {\n",
       "        vertical-align: middle;\n",
       "    }\n",
       "\n",
       "    .dataframe tbody tr th {\n",
       "        vertical-align: top;\n",
       "    }\n",
       "\n",
       "    .dataframe thead th {\n",
       "        text-align: right;\n",
       "    }\n",
       "</style>\n",
       "<table border=\"1\" class=\"dataframe\">\n",
       "  <thead>\n",
       "    <tr style=\"text-align: right;\">\n",
       "      <th></th>\n",
       "      <th>USER_ID_hash</th>\n",
       "      <th>PURCHASED_COUPONS</th>\n",
       "    </tr>\n",
       "  </thead>\n",
       "  <tbody>\n",
       "    <tr>\n",
       "      <th>0</th>\n",
       "      <td>0000b53e182165208887ba65c079fc21</td>\n",
       "      <td>c60dbd64087f40d46d539a96947d0e87 c988d799bc7db...</td>\n",
       "    </tr>\n",
       "    <tr>\n",
       "      <th>1</th>\n",
       "      <td>00035b86e6884589ec8d28fbf2fe7757</td>\n",
       "      <td>fc5f052a1bd97696fbcab35d8d974b73 d506a61810346...</td>\n",
       "    </tr>\n",
       "    <tr>\n",
       "      <th>2</th>\n",
       "      <td>0005b1068d5f2b8f2a7c978fcfe1ca06</td>\n",
       "      <td>46da51ba6dd20c514c2802f79a4e94b2 c988d799bc7db...</td>\n",
       "    </tr>\n",
       "    <tr>\n",
       "      <th>3</th>\n",
       "      <td>000cc06982785a19e2a2fdb40b1c9d59</td>\n",
       "      <td>79de77aa8c36fdf17cb3366e2084e353 e3e9027e1b87d...</td>\n",
       "    </tr>\n",
       "    <tr>\n",
       "      <th>4</th>\n",
       "      <td>0013518e41c416cd6a181d277dd8ca0b</td>\n",
       "      <td>c988d799bc7db9254fe865ee6cf2d4ff c60dbd64087f4...</td>\n",
       "    </tr>\n",
       "    <tr>\n",
       "      <th>...</th>\n",
       "      <td>...</td>\n",
       "      <td>...</td>\n",
       "    </tr>\n",
       "    <tr>\n",
       "      <th>22868</th>\n",
       "      <td>fff1a623187cefd7a594e338709b0f40</td>\n",
       "      <td>51da52d5516033bea13972588b671184 c988d799bc7db...</td>\n",
       "    </tr>\n",
       "    <tr>\n",
       "      <th>22869</th>\n",
       "      <td>fff4a076cfda6ff9dbe85e1cb678791b</td>\n",
       "      <td>79de77aa8c36fdf17cb3366e2084e353 e3e9027e1b87d...</td>\n",
       "    </tr>\n",
       "    <tr>\n",
       "      <th>22870</th>\n",
       "      <td>fff970d2014c3e10a77e38d540239017</td>\n",
       "      <td>46da51ba6dd20c514c2802f79a4e94b2 09aeb1dad89fe...</td>\n",
       "    </tr>\n",
       "    <tr>\n",
       "      <th>22871</th>\n",
       "      <td>fffafc024e264d5d539813444cf61199</td>\n",
       "      <td>63eeb16b672d0b8554acb63e88035ec8 c60dbd64087f4...</td>\n",
       "    </tr>\n",
       "    <tr>\n",
       "      <th>22872</th>\n",
       "      <td>ffff56dbf3c782c3532f88c6c79817ba</td>\n",
       "      <td>79de77aa8c36fdf17cb3366e2084e353 e3e9027e1b87d...</td>\n",
       "    </tr>\n",
       "  </tbody>\n",
       "</table>\n",
       "<p>22873 rows × 2 columns</p>\n",
       "</div>"
      ],
      "text/plain": [
       "                           USER_ID_hash  \\\n",
       "0      0000b53e182165208887ba65c079fc21   \n",
       "1      00035b86e6884589ec8d28fbf2fe7757   \n",
       "2      0005b1068d5f2b8f2a7c978fcfe1ca06   \n",
       "3      000cc06982785a19e2a2fdb40b1c9d59   \n",
       "4      0013518e41c416cd6a181d277dd8ca0b   \n",
       "...                                 ...   \n",
       "22868  fff1a623187cefd7a594e338709b0f40   \n",
       "22869  fff4a076cfda6ff9dbe85e1cb678791b   \n",
       "22870  fff970d2014c3e10a77e38d540239017   \n",
       "22871  fffafc024e264d5d539813444cf61199   \n",
       "22872  ffff56dbf3c782c3532f88c6c79817ba   \n",
       "\n",
       "                                       PURCHASED_COUPONS  \n",
       "0      c60dbd64087f40d46d539a96947d0e87 c988d799bc7db...  \n",
       "1      fc5f052a1bd97696fbcab35d8d974b73 d506a61810346...  \n",
       "2      46da51ba6dd20c514c2802f79a4e94b2 c988d799bc7db...  \n",
       "3      79de77aa8c36fdf17cb3366e2084e353 e3e9027e1b87d...  \n",
       "4      c988d799bc7db9254fe865ee6cf2d4ff c60dbd64087f4...  \n",
       "...                                                  ...  \n",
       "22868  51da52d5516033bea13972588b671184 c988d799bc7db...  \n",
       "22869  79de77aa8c36fdf17cb3366e2084e353 e3e9027e1b87d...  \n",
       "22870  46da51ba6dd20c514c2802f79a4e94b2 09aeb1dad89fe...  \n",
       "22871  63eeb16b672d0b8554acb63e88035ec8 c60dbd64087f4...  \n",
       "22872  79de77aa8c36fdf17cb3366e2084e353 e3e9027e1b87d...  \n",
       "\n",
       "[22873 rows x 2 columns]"
      ]
     },
     "execution_count": 22,
     "metadata": {},
     "output_type": "execute_result"
    }
   ],
   "source": [
    "submission['PURCHASED_COUPONS'] = submission.progress_apply(get_top10, axis=1)\n",
    "submission.to_csv('sub_CPP_REPRO_LGBM.csv', index=False)\n",
    "submission"
   ]
  }
 ],
 "metadata": {
  "kernelspec": {
   "display_name": "Python 3",
   "language": "python",
   "name": "python3"
  },
  "language_info": {
   "codemirror_mode": {
    "name": "ipython",
    "version": 3
   },
   "file_extension": ".py",
   "mimetype": "text/x-python",
   "name": "python",
   "nbconvert_exporter": "python",
   "pygments_lexer": "ipython3",
   "version": "3.7.6"
  }
 },
 "nbformat": 4,
 "nbformat_minor": 4
}
