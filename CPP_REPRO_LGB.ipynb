{
 "cells": [
  {
   "cell_type": "code",
   "execution_count": 104,
   "metadata": {},
   "outputs": [
    {
     "name": "stderr",
     "output_type": "stream",
     "text": [
      "C:\\Users\\Daniel\\anaconda3\\envs\\datsci\\lib\\site-packages\\tqdm\\std.py:658: FutureWarning: The Panel class is removed from pandas. Accessing it from the top-level namespace will also be removed in the next version\n",
      "  from pandas import Panel\n"
     ]
    }
   ],
   "source": [
    "import pandas as pd\n",
    "import os\n",
    "import numpy as np\n",
    "import itertools\n",
    "import lightgbm as lgb\n",
    "from scipy.spatial.distance import euclidean\n",
    "import joblib\n",
    "from tqdm.notebook import tqdm\n",
    "\n",
    "tqdm.pandas()\n",
    "pd.set_option('display.max_columns', None)"
   ]
  },
  {
   "cell_type": "markdown",
   "metadata": {},
   "source": [
    "# Read and Preprocess"
   ]
  },
  {
   "cell_type": "code",
   "execution_count": 105,
   "metadata": {},
   "outputs": [],
   "source": [
    "dsdir = 'C:\\\\Users\\\\Daniel\\\\Downloads\\\\3_Plus_1\\\\RecommendationEngine\\\\coupon-purchase-prediction\\\\dataset'"
   ]
  },
  {
   "cell_type": "code",
   "execution_count": 106,
   "metadata": {},
   "outputs": [],
   "source": [
    "train = pd.read_csv('CPP_REPRO_coupon_list_train.csv').sample(frac=1, random_state=0).reset_index(drop=True)\n",
    "test =  pd.read_csv('CPP_REPRO_coupon_list_test.csv')\n",
    "submission = pd.read_csv(os.path.join(dsdir,'sample_submission.csv'))"
   ]
  },
  {
   "cell_type": "code",
   "execution_count": 107,
   "metadata": {},
   "outputs": [],
   "source": [
    "train.drop(['DISPFROM', 'DISPEND', 'VALIDFROM', 'VALIDEND', 'REG_DATE', 'WITHDRAW_DATE'], axis=1, inplace=True)\n",
    "test.drop(['DISPFROM', 'DISPEND', 'VALIDFROM', 'VALIDEND', 'REG_DATE', 'WITHDRAW_DATE'], axis=1, inplace=True)"
   ]
  },
  {
   "cell_type": "code",
   "execution_count": 108,
   "metadata": {},
   "outputs": [],
   "source": [
    "train['SAME_PREF'] = train['PREF_NAME_COUPON'] == train['PREF_NAME_USER']\n",
    "test['SAME_PREF'] =  test['PREF_NAME_COUPON'] == test['PREF_NAME_USER']"
   ]
  },
  {
   "cell_type": "code",
   "execution_count": 109,
   "metadata": {},
   "outputs": [],
   "source": [
    "def haversine(lat1, lat2, lon1, lon2):\n",
    "    R = 6372.8 # kilometres (3959.87433 miles)\n",
    "    \n",
    "    dlat_rad = np.radians(lat2 - lat1)\n",
    "    dlon_rad = np.radians(lon2 - lon1)\n",
    "    lat1_rad = np.radians(lat1)\n",
    "    lat2_rad = np.radians(lat2)\n",
    "\n",
    "    a = np.sin(dlat_rad / 2) ** 2 + np.cos(lat1_rad) * np.cos(lat2_rad) * np.sin(dlon_rad / 2) ** 2\n",
    "    hdist = 2 * R * np.arcsin(np.sqrt(a))\n",
    "\n",
    "    return hdist"
   ]
  },
  {
   "cell_type": "code",
   "execution_count": 110,
   "metadata": {},
   "outputs": [],
   "source": [
    "# Use vector operations for speed\n",
    "train['HAVERSINE_DIST'] = haversine(train['LATITUDE_COUPON'], train['LATITUDE_USER'], train['LONGITUDE_COUPON'], train['LONGITUDE_USER'])\n",
    "train['LATITUDE_DELTA'] = train['LATITUDE_COUPON'] - train['LATITUDE_USER']\n",
    "train['LONGITUDE_DELTA'] = train['LONGITUDE_COUPON'] - train['LONGITUDE_USER']\n",
    "\n",
    "test['HAVERSINE_DIST'] = haversine(test['LATITUDE_COUPON'], test['LATITUDE_USER'], test['LONGITUDE_COUPON'], test['LONGITUDE_USER'])\n",
    "test['LATITUDE_DELTA'] = test['LATITUDE_COUPON'] - test['LATITUDE_USER']\n",
    "test['LONGITUDE_DELTA'] = test['LONGITUDE_COUPON'] - test['LONGITUDE_USER']"
   ]
  },
  {
   "cell_type": "code",
   "execution_count": 111,
   "metadata": {},
   "outputs": [
    {
     "data": {
      "text/plain": [
       "['CAPSULE_TEXT',\n",
       " 'GENRE_NAME',\n",
       " 'LARGE_AREA_NAME',\n",
       " 'PREF_NAME_COUPON',\n",
       " 'SMALL_AREA_NAME',\n",
       " 'SEX_ID',\n",
       " 'PREF_NAME_USER']"
      ]
     },
     "execution_count": 111,
     "metadata": {},
     "output_type": "execute_result"
    }
   ],
   "source": [
    "x_train = train.drop(['USER_ID_hash', 'COUPON_ID_hash', 'TARGET'], axis=1)\n",
    "y_train = train.TARGET.values.reshape(-1)\n",
    "x_test = test.drop(['USER_ID_hash', 'COUPON_ID_hash'], axis=1)\n",
    "\n",
    "categoricals = x_train.dtypes[x_train.dtypes == 'object'].index.tolist()\n",
    "categoricals"
   ]
  },
  {
   "cell_type": "code",
   "execution_count": 112,
   "metadata": {},
   "outputs": [],
   "source": [
    "x_train[categoricals] = x_train[categoricals].astype('category')\n",
    "x_test[categoricals] = x_test[categoricals].astype('category')"
   ]
  },
  {
   "cell_type": "code",
   "execution_count": 113,
   "metadata": {},
   "outputs": [],
   "source": [
    "x_train, x_test = x_train.align(x_test, join='left', axis=1)"
   ]
  },
  {
   "cell_type": "code",
   "execution_count": 114,
   "metadata": {},
   "outputs": [],
   "source": [
    "train_data = lgb.Dataset(x_train, label=y_train, feature_name=x_train.columns.values.tolist(), categorical_feature=categoricals)"
   ]
  },
  {
   "cell_type": "markdown",
   "metadata": {},
   "source": [
    "# Training"
   ]
  },
  {
   "cell_type": "code",
   "execution_count": 115,
   "metadata": {},
   "outputs": [],
   "source": [
    "model_params = {\n",
    "    'boosting_type': 'gbdt',\n",
    "    'class_weight': None,\n",
    "    'colsample_bytree': 1.0,\n",
    "    'importance_type': 'split',\n",
    "    'learning_rate': 0.1,\n",
    "    'max_depth': -1,\n",
    "    'min_child_samples': 20,\n",
    "    'min_child_weight': 0.001,\n",
    "    'min_split_gain': 0.0,\n",
    "    'n_estimators': 100,\n",
    "    'n_jobs': -1,\n",
    "    'num_leaves': 31,\n",
    "    'objective': 'binary',\n",
    "    'random_state': 0,\n",
    "    'reg_alpha': 0.0,\n",
    "    'reg_lambda': 0.0,\n",
    "    'silent': False,\n",
    "    'subsample': 1.0,\n",
    "    'subsample_for_bin': 200000,\n",
    "    'subsample_freq': 0,\n",
    "    'metric': 'binary_logloss'\n",
    "}"
   ]
  },
  {
   "cell_type": "code",
   "execution_count": 116,
   "metadata": {},
   "outputs": [
    {
     "name": "stderr",
     "output_type": "stream",
     "text": [
      "C:\\Users\\Daniel\\anaconda3\\envs\\datsci\\lib\\site-packages\\lightgbm\\engine.py:148: UserWarning: Found `n_estimators` in params. Will use it instead of argument\n",
      "  warnings.warn(\"Found `{}` in params. Will use it instead of argument\".format(alias))\n",
      "C:\\Users\\Daniel\\anaconda3\\envs\\datsci\\lib\\site-packages\\lightgbm\\basic.py:1243: UserWarning: Using categorical_feature in Dataset.\n",
      "  warnings.warn('Using categorical_feature in Dataset.')\n",
      "C:\\Users\\Daniel\\anaconda3\\envs\\datsci\\lib\\site-packages\\lightgbm\\basic.py:794: UserWarning: silent keyword has been found in `params` and will be ignored.\n",
      "Please use silent argument of the Dataset constructor to pass this parameter.\n",
      "  .format(key))\n"
     ]
    }
   ],
   "source": [
    "gbm_model = lgb.train(model_params, train_data)"
   ]
  },
  {
   "cell_type": "code",
   "execution_count": 117,
   "metadata": {},
   "outputs": [
    {
     "data": {
      "text/plain": [
       "<lightgbm.basic.Booster at 0x16f20765048>"
      ]
     },
     "execution_count": 117,
     "metadata": {},
     "output_type": "execute_result"
    }
   ],
   "source": [
    "# gbm_model.save_model('CPP_REPRO_LGBM.mdl')\n",
    "# gbm_model = lgb.Booster(model_file='CPP_REPRO_LGBM.mdl')"
   ]
  },
  {
   "cell_type": "code",
   "execution_count": 118,
   "metadata": {},
   "outputs": [],
   "source": [
    "A = x_test.iloc[:len(x_test) // 3]\n",
    "B = x_test.iloc[len(x_test) // 3:len(x_test) // 3 * 2]\n",
    "C = x_test.iloc[len(x_test) // 3 * 2:]"
   ]
  },
  {
   "cell_type": "code",
   "execution_count": 119,
   "metadata": {},
   "outputs": [],
   "source": [
    "y_predA = gbm_model.predict(A, raw_score=True)\n",
    "y_predB = gbm_model.predict(B, raw_score=True)\n",
    "y_predC = gbm_model.predict(C, raw_score=True)"
   ]
  },
  {
   "cell_type": "code",
   "execution_count": 120,
   "metadata": {},
   "outputs": [],
   "source": [
    "y_pred = y_predA.tolist() + y_predB.tolist() + y_predC.tolist()"
   ]
  },
  {
   "cell_type": "code",
   "execution_count": 121,
   "metadata": {},
   "outputs": [],
   "source": [
    "sub = test[['USER_ID_hash','COUPON_ID_hash']].copy()\n",
    "sub['TARGET'] = y_pred"
   ]
  },
  {
   "cell_type": "code",
   "execution_count": 122,
   "metadata": {},
   "outputs": [],
   "source": [
    "grouped = sub.groupby('USER_ID_hash')"
   ]
  },
  {
   "cell_type": "code",
   "execution_count": 123,
   "metadata": {},
   "outputs": [],
   "source": [
    "def get_top10(row):\n",
    "    pred = grouped.get_group(row.USER_ID_hash).sort_values(by=['TARGET'],ascending=False)\n",
    "    pred = ' '.join(map(str, pred.head(10).COUPON_ID_hash.values))\n",
    "    return pred"
   ]
  },
  {
   "cell_type": "code",
   "execution_count": 124,
   "metadata": {},
   "outputs": [
    {
     "data": {
      "application/vnd.jupyter.widget-view+json": {
       "model_id": "d955ad304b244953b6441e2b4d6aec41",
       "version_major": 2,
       "version_minor": 0
      },
      "text/plain": [
       "HBox(children=(FloatProgress(value=0.0, max=22873.0), HTML(value='')))"
      ]
     },
     "metadata": {},
     "output_type": "display_data"
    },
    {
     "name": "stdout",
     "output_type": "stream",
     "text": [
      "\n"
     ]
    },
    {
     "data": {
      "text/html": [
       "<div>\n",
       "<style scoped>\n",
       "    .dataframe tbody tr th:only-of-type {\n",
       "        vertical-align: middle;\n",
       "    }\n",
       "\n",
       "    .dataframe tbody tr th {\n",
       "        vertical-align: top;\n",
       "    }\n",
       "\n",
       "    .dataframe thead th {\n",
       "        text-align: right;\n",
       "    }\n",
       "</style>\n",
       "<table border=\"1\" class=\"dataframe\">\n",
       "  <thead>\n",
       "    <tr style=\"text-align: right;\">\n",
       "      <th></th>\n",
       "      <th>USER_ID_hash</th>\n",
       "      <th>PURCHASED_COUPONS</th>\n",
       "    </tr>\n",
       "  </thead>\n",
       "  <tbody>\n",
       "    <tr>\n",
       "      <th>0</th>\n",
       "      <td>0000b53e182165208887ba65c079fc21</td>\n",
       "      <td>c1812b1c062f096ce5e58cfd6ba86d62 9fe88dabce140...</td>\n",
       "    </tr>\n",
       "    <tr>\n",
       "      <th>1</th>\n",
       "      <td>00035b86e6884589ec8d28fbf2fe7757</td>\n",
       "      <td>fc5f052a1bd97696fbcab35d8d974b73 262572324a598...</td>\n",
       "    </tr>\n",
       "    <tr>\n",
       "      <th>2</th>\n",
       "      <td>0005b1068d5f2b8f2a7c978fcfe1ca06</td>\n",
       "      <td>c1812b1c062f096ce5e58cfd6ba86d62 9fe88dabce140...</td>\n",
       "    </tr>\n",
       "    <tr>\n",
       "      <th>3</th>\n",
       "      <td>000cc06982785a19e2a2fdb40b1c9d59</td>\n",
       "      <td>79de77aa8c36fdf17cb3366e2084e353 784c1314b9f64...</td>\n",
       "    </tr>\n",
       "    <tr>\n",
       "      <th>4</th>\n",
       "      <td>0013518e41c416cd6a181d277dd8ca0b</td>\n",
       "      <td>c988d799bc7db9254fe865ee6cf2d4ff 0c01530659756...</td>\n",
       "    </tr>\n",
       "    <tr>\n",
       "      <th>...</th>\n",
       "      <td>...</td>\n",
       "      <td>...</td>\n",
       "    </tr>\n",
       "    <tr>\n",
       "      <th>22868</th>\n",
       "      <td>fff1a623187cefd7a594e338709b0f40</td>\n",
       "      <td>51da52d5516033bea13972588b671184 c988d799bc7db...</td>\n",
       "    </tr>\n",
       "    <tr>\n",
       "      <th>22869</th>\n",
       "      <td>fff4a076cfda6ff9dbe85e1cb678791b</td>\n",
       "      <td>79de77aa8c36fdf17cb3366e2084e353 8c470d8651dbc...</td>\n",
       "    </tr>\n",
       "    <tr>\n",
       "      <th>22870</th>\n",
       "      <td>fff970d2014c3e10a77e38d540239017</td>\n",
       "      <td>46da51ba6dd20c514c2802f79a4e94b2 f453a31322bc6...</td>\n",
       "    </tr>\n",
       "    <tr>\n",
       "      <th>22871</th>\n",
       "      <td>fffafc024e264d5d539813444cf61199</td>\n",
       "      <td>63eeb16b672d0b8554acb63e88035ec8 c1812b1c062f0...</td>\n",
       "    </tr>\n",
       "    <tr>\n",
       "      <th>22872</th>\n",
       "      <td>ffff56dbf3c782c3532f88c6c79817ba</td>\n",
       "      <td>79de77aa8c36fdf17cb3366e2084e353 8c470d8651dbc...</td>\n",
       "    </tr>\n",
       "  </tbody>\n",
       "</table>\n",
       "<p>22873 rows × 2 columns</p>\n",
       "</div>"
      ],
      "text/plain": [
       "                           USER_ID_hash  \\\n",
       "0      0000b53e182165208887ba65c079fc21   \n",
       "1      00035b86e6884589ec8d28fbf2fe7757   \n",
       "2      0005b1068d5f2b8f2a7c978fcfe1ca06   \n",
       "3      000cc06982785a19e2a2fdb40b1c9d59   \n",
       "4      0013518e41c416cd6a181d277dd8ca0b   \n",
       "...                                 ...   \n",
       "22868  fff1a623187cefd7a594e338709b0f40   \n",
       "22869  fff4a076cfda6ff9dbe85e1cb678791b   \n",
       "22870  fff970d2014c3e10a77e38d540239017   \n",
       "22871  fffafc024e264d5d539813444cf61199   \n",
       "22872  ffff56dbf3c782c3532f88c6c79817ba   \n",
       "\n",
       "                                       PURCHASED_COUPONS  \n",
       "0      c1812b1c062f096ce5e58cfd6ba86d62 9fe88dabce140...  \n",
       "1      fc5f052a1bd97696fbcab35d8d974b73 262572324a598...  \n",
       "2      c1812b1c062f096ce5e58cfd6ba86d62 9fe88dabce140...  \n",
       "3      79de77aa8c36fdf17cb3366e2084e353 784c1314b9f64...  \n",
       "4      c988d799bc7db9254fe865ee6cf2d4ff 0c01530659756...  \n",
       "...                                                  ...  \n",
       "22868  51da52d5516033bea13972588b671184 c988d799bc7db...  \n",
       "22869  79de77aa8c36fdf17cb3366e2084e353 8c470d8651dbc...  \n",
       "22870  46da51ba6dd20c514c2802f79a4e94b2 f453a31322bc6...  \n",
       "22871  63eeb16b672d0b8554acb63e88035ec8 c1812b1c062f0...  \n",
       "22872  79de77aa8c36fdf17cb3366e2084e353 8c470d8651dbc...  \n",
       "\n",
       "[22873 rows x 2 columns]"
      ]
     },
     "execution_count": 124,
     "metadata": {},
     "output_type": "execute_result"
    }
   ],
   "source": [
    "submission['PURCHASED_COUPONS'] = submission.progress_apply(get_top10, axis=1)\n",
    "submission.to_csv('sub_CPP_REPRO_LGBM.csv', index=False)\n",
    "submission"
   ]
  }
 ],
 "metadata": {
  "kernelspec": {
   "display_name": "Python 3",
   "language": "python",
   "name": "python3"
  },
  "language_info": {
   "codemirror_mode": {
    "name": "ipython",
    "version": 3
   },
   "file_extension": ".py",
   "mimetype": "text/x-python",
   "name": "python",
   "nbconvert_exporter": "python",
   "pygments_lexer": "ipython3",
   "version": "3.7.6"
  }
 },
 "nbformat": 4,
 "nbformat_minor": 4
}
